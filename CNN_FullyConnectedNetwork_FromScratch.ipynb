{
 "cells": [
  {
   "cell_type": "code",
   "execution_count": null,
   "metadata": {},
   "outputs": [],
   "source": [
    "# CNN Fully Connected Network From Scratch\n",
    "# Fully Connected Dense Network\n"
   ]
  },
  {
   "cell_type": "code",
   "execution_count": 1,
   "metadata": {},
   "outputs": [],
   "source": [
    "# !pip install tensorflow"
   ]
  },
  {
   "cell_type": "code",
   "execution_count": 2,
   "metadata": {},
   "outputs": [],
   "source": [
    "\n",
    "import numpy as np\n",
    "import tensorflow as tf\n",
    "import matplotlib.pyplot as plt\n",
    "%matplotlib inline\n",
    "\n",
    "# keras API documentation:\n",
    "# https://www.tensorflow.org/api_docs/python/tf/keras\n",
    "from tensorflow.keras import datasets # https://www.tensorflow.org/api_docs/python/tf/keras/datasets\n",
    "from tensorflow.keras import layers # https://www.tensorflow.org/api_docs/python/tf/keras/layers\n",
    "from tensorflow.keras import activations # https://www.tensorflow.org/api_docs/python/tf/keras/activations\n",
    "from tensorflow.keras import initializers # https://www.tensorflow.org/api_docs/python/tf/keras/initializers\n",
    "from tensorflow.keras import losses # https://www.tensorflow.org/api_docs/python/tf/keras/losses\n",
    "from tensorflow.keras import metrics # https://www.tensorflow.org/api_docs/python/tf/keras/metrics\n",
    "from tensorflow.keras import optimizers # https://www.tensorflow.org/api_docs/python/tf/keras/optimizers\n",
    "from tensorflow.keras import regularizers # https://www.tensorflow.org/api_docs/python/tf/keras/regularizers\n",
    "from tensorflow.keras.optimizers import schedules # https://www.tensorflow.org/api_docs/python/tf/keras/optimizers/schedules\n",
    "from tensorflow.keras import callbacks # https://www.tensorflow.org/api_docs/python/tf/keras/callbacks\n",
    "from tensorflow.keras import utils # https://www.tensorflow.org/api_docs/python/tf/keras/utils\n",
    "from tensorflow.keras import models # https://www.tensorflow.org/api_docs/python/tf/keras/models"
   ]
  },
  {
   "cell_type": "code",
   "execution_count": 3,
   "metadata": {},
   "outputs": [
    {
     "data": {
      "text/plain": [
       "((60000, 28, 28), (60000,), (10000, 28, 28), (10000,))"
      ]
     },
     "execution_count": 3,
     "metadata": {},
     "output_type": "execute_result"
    }
   ],
   "source": [
    "\n",
    "# load the MNIST dataset\n",
    "# - contains 70,000 grayscale images (handwritten digits)\n",
    "# - images are low resolution (28 by 28 pixels)\n",
    "# - 10 categories (labeled 0 through 9)\n",
    "# - 60,000 images in train and 10,000 images in test\n",
    "\n",
    "mnist = datasets.mnist\n",
    "\n",
    "class_names = ['0', '1', '2', '3', '4', '5', '6', '7', '8', '9']\n",
    "num_classes = 10\n",
    "\n",
    "(train_images, train_labels), (test_images, test_labels) = mnist.load_data()\n",
    "\n",
    "train_images.shape, train_labels.shape, test_images.shape, test_labels.shape"
   ]
  },
  {
   "cell_type": "code",
   "execution_count": 4,
   "metadata": {},
   "outputs": [
    {
     "data": {
      "image/png": "[encoded data removed]",
      "text/plain": [
       "<Figure size 360x360 with 9 Axes>"
      ]
     },
     "metadata": {},
     "output_type": "display_data"
    }
   ],
   "source": [
    "\n",
    "# view a sample of 9 images from the training set\n",
    "plt.figure(figsize=(5,5))\n",
    "for i in range(9):\n",
    "    plt.subplot(3,3,i+1)\n",
    "    plt.xticks([])\n",
    "    plt.yticks([])\n",
    "    plt.grid(False)\n",
    "    plt.imshow(train_images[i], cmap=plt.cm.binary)\n",
    "    plt.xlabel(class_names[train_labels[i]])\n",
    "plt.show()"
   ]
  },
  {
   "cell_type": "code",
   "execution_count": 5,
   "metadata": {
    "scrolled": true
   },
   "outputs": [
    {
     "name": "stdout",
     "output_type": "stream",
     "text": [
      "Metal device set to: Apple M1\n",
      "Model: \"sequential\"\n",
      "_________________________________________________________________\n",
      " Layer (type)                Output Shape              Param #   \n",
      "=================================================================\n",
      " rescaling (Rescaling)       (None, 28, 28, 1)         0         \n",
      "                                                                 \n",
      " flatten (Flatten)           (None, 784)               0         \n",
      "                                                                 \n",
      " dense (Dense)               (None, 256)               200960    \n",
      "                                                                 \n",
      " batch_normalization (BatchN  (None, 256)              1024      \n",
      " ormalization)                                                   \n",
      "                                                                 \n",
      " activation (Activation)     (None, 256)               0         \n",
      "                                                                 \n",
      " dense_1 (Dense)             (None, 128)               32896     \n",
      "                                                                 \n",
      " batch_normalization_1 (Batc  (None, 128)              512       \n",
      " hNormalization)                                                 \n",
      "                                                                 \n",
      " activation_1 (Activation)   (None, 128)               0         \n",
      "                                                                 \n",
      " dense_2 (Dense)             (None, 10)                1290      \n",
      "                                                                 \n",
      "=================================================================\n",
      "Total params: 236,682\n",
      "Trainable params: 235,914\n",
      "Non-trainable params: 768\n",
      "_________________________________________________________________\n"
     ]
    },
    {
     "name": "stderr",
     "output_type": "stream",
     "text": [
      "2022-04-13 15:19:54.165864: I tensorflow/core/common_runtime/pluggable_device/pluggable_device_factory.cc:305] Could not identify NUMA node of platform GPU ID 0, defaulting to 0. Your kernel may not have been built with NUMA support.\n",
      "2022-04-13 15:19:54.165967: I tensorflow/core/common_runtime/pluggable_device/pluggable_device_factory.cc:271] Created TensorFlow device (/job:localhost/replica:0/task:0/device:GPU:0 with 0 MB memory) -> physical PluggableDevice (device: 0, name: METAL, pci bus id: <undefined>)\n"
     ]
    }
   ],
   "source": [
    "\n",
    "# CREATE model \n",
    "# a sequential model is appropriate for a plain stack of layers where each layer \n",
    "# has exactly one input tensor and one output tensor.\n",
    "model = tf.keras.Sequential([\n",
    "    \n",
    "    # tell keras the input shape is (28, 28, 1); \n",
    "    # sample size is ommitted - only the shape of each sample is specified \n",
    "    tf.keras.Input(shape=(28, 28, 1)), \n",
    "\n",
    "    # preprocess images to lie in the range 0-1\n",
    "    layers.experimental.preprocessing.Rescaling(1.0 / 255), \n",
    "    \n",
    "    # Flatten the 2D (28 x 28 x 1) images to be 1D (28 * 28 * 1 = 784)\n",
    "    layers.Flatten(), \n",
    "    \n",
    "    # create Dense hidden layer 1 with 256 nodes (leave everything else at default values),\n",
    "    # followed by BatchNormalization (leave everything at default values),\n",
    "    # followed by ReLU Activation (leave everything else at default values)\n",
    "    layers.Dense(units=256),\n",
    "    layers.BatchNormalization(),\n",
    "    layers.Activation(activations.relu),\n",
    "\n",
    "    # create Dense hidden layer 2 with 128 nodes (leave everything else at default values),\n",
    "    # followed by BatchNormalization (leave everything at default values),\n",
    "    # followed by ReLU Activation (leave everything else at default values)\n",
    "    layers.Dense(units=128),\n",
    "    layers.BatchNormalization(),\n",
    "    layers.Activation(activations.relu),\n",
    "    \n",
    "    # create Dense output layer with 10 nodes and Softmax activation (leave everything else at default values)\n",
    "    layers.Dense(units=10, activation=activations.softmax)\n",
    "    \n",
    "])\n",
    "\n",
    "# DISPLAY model architecture\n",
    "model.summary()\n",
    "\n",
    "# COMPILE model\n",
    "model.compile(\n",
    "    \n",
    "    # use Adam optimizer with learning rate 0.001 (leave everything else at default values)\n",
    "    optimizer=optimizers.Adam(learning_rate=0.001),\n",
    "    \n",
    "    # use SparseCategoricalCrossentropy loss (leave everything at default values)\n",
    "    loss=losses.SparseCategoricalCrossentropy(),\n",
    "    \n",
    "    # track accuracy metric\n",
    "    metrics=['accuracy']\n",
    "    \n",
    ") "
   ]
  },
  {
   "cell_type": "code",
   "execution_count": 6,
   "metadata": {},
   "outputs": [
    {
     "name": "stdout",
     "output_type": "stream",
     "text": [
      "Epoch 1/15\n"
     ]
    },
    {
     "name": "stderr",
     "output_type": "stream",
     "text": [
      "2022-04-13 15:19:54.276015: W tensorflow/core/platform/profile_utils/cpu_utils.cc:128] Failed to get CPU frequency: 0 Hz\n"
     ]
    },
    {
     "name": "stdout",
     "output_type": "stream",
     "text": [
      "\r",
      "  1/422 [..............................] - ETA: 3:00 - loss: 2.6947 - accuracy: 0.0859"
     ]
    },
    {
     "name": "stderr",
     "output_type": "stream",
     "text": [
      "2022-04-13 15:19:54.514425: I tensorflow/core/grappler/optimizers/custom_graph_optimizer_registry.cc:113] Plugin optimizer for device_type GPU is enabled.\n"
     ]
    },
    {
     "name": "stdout",
     "output_type": "stream",
     "text": [
      "422/422 [==============================] - ETA: 0s - loss: 0.2371 - accuracy: 0.9326"
     ]
    },
    {
     "name": "stderr",
     "output_type": "stream",
     "text": [
      "2022-04-13 15:19:58.138985: I tensorflow/core/grappler/optimizers/custom_graph_optimizer_registry.cc:113] Plugin optimizer for device_type GPU is enabled.\n"
     ]
    },
    {
     "name": "stdout",
     "output_type": "stream",
     "text": [
      "422/422 [==============================] - 4s 9ms/step - loss: 0.2371 - accuracy: 0.9326 - val_loss: 0.1102 - val_accuracy: 0.9680\n",
      "Epoch 2/15\n",
      "422/422 [==============================] - 4s 8ms/step - loss: 0.0849 - accuracy: 0.9751 - val_loss: 0.0785 - val_accuracy: 0.9748\n",
      "Epoch 3/15\n",
      "422/422 [==============================] - 4s 8ms/step - loss: 0.0522 - accuracy: 0.9843 - val_loss: 0.0742 - val_accuracy: 0.9772\n",
      "Epoch 4/15\n",
      "422/422 [==============================] - 4s 8ms/step - loss: 0.0354 - accuracy: 0.9895 - val_loss: 0.0788 - val_accuracy: 0.9753\n",
      "Epoch 5/15\n",
      "422/422 [==============================] - 4s 9ms/step - loss: 0.0288 - accuracy: 0.9912 - val_loss: 0.0660 - val_accuracy: 0.9797\n",
      "Epoch 6/15\n",
      "422/422 [==============================] - 4s 9ms/step - loss: 0.0186 - accuracy: 0.9947 - val_loss: 0.0791 - val_accuracy: 0.9777\n",
      "Epoch 7/15\n",
      "422/422 [==============================] - 4s 9ms/step - loss: 0.0166 - accuracy: 0.9947 - val_loss: 0.0812 - val_accuracy: 0.9797\n",
      "Epoch 8/15\n",
      "422/422 [==============================] - 4s 8ms/step - loss: 0.0141 - accuracy: 0.9956 - val_loss: 0.0829 - val_accuracy: 0.9763\n",
      "Epoch 9/15\n",
      "422/422 [==============================] - 4s 8ms/step - loss: 0.0141 - accuracy: 0.9954 - val_loss: 0.0815 - val_accuracy: 0.9798\n",
      "Epoch 10/15\n",
      "422/422 [==============================] - 4s 9ms/step - loss: 0.0132 - accuracy: 0.9958 - val_loss: 0.0814 - val_accuracy: 0.9787\n",
      "Epoch 11/15\n",
      "422/422 [==============================] - 4s 9ms/step - loss: 0.0102 - accuracy: 0.9967 - val_loss: 0.0836 - val_accuracy: 0.9810\n",
      "Epoch 12/15\n",
      "422/422 [==============================] - 4s 9ms/step - loss: 0.0089 - accuracy: 0.9975 - val_loss: 0.0800 - val_accuracy: 0.9823\n",
      "Epoch 13/15\n",
      "422/422 [==============================] - 4s 8ms/step - loss: 0.0079 - accuracy: 0.9976 - val_loss: 0.0863 - val_accuracy: 0.9825\n",
      "Epoch 14/15\n",
      "422/422 [==============================] - 4s 8ms/step - loss: 0.0115 - accuracy: 0.9963 - val_loss: 0.0939 - val_accuracy: 0.9780\n",
      "Epoch 15/15\n",
      "422/422 [==============================] - 4s 9ms/step - loss: 0.0104 - accuracy: 0.9968 - val_loss: 0.0893 - val_accuracy: 0.9798\n",
      "CPU times: user 48 s, sys: 24.7 s, total: 1min 12s\n",
      "Wall time: 54.6 s\n"
     ]
    }
   ],
   "source": [
    "%%time\n",
    "\n",
    "# TRAIN model \n",
    "history = model.fit(\n",
    "    \n",
    "    # training set images\n",
    "    train_images, \n",
    "    \n",
    "    # training set labels\n",
    "    train_labels, \n",
    "    \n",
    "    # number of epochs to train\n",
    "    epochs=15,\n",
    "    \n",
    "    # mini-batch SGD batch size\n",
    "    # if None, defaults to 32\n",
    "    batch_size=128,\n",
    "    \n",
    "    # validation set - can use validation_split or validation_data\n",
    "    validation_split=0.1,\n",
    ") "
   ]
  },
  {
   "cell_type": "code",
   "execution_count": 7,
   "metadata": {},
   "outputs": [
    {
     "name": "stdout",
     "output_type": "stream",
     "text": [
      "dict_keys(['loss', 'accuracy', 'val_loss', 'val_accuracy'])\n"
     ]
    },
    {
     "data": {
      "image/png": "[encoded data removed]",
      "text/plain": [
       "<Figure size 432x288 with 1 Axes>"
      ]
     },
     "metadata": {
      "needs_background": "light"
     },
     "output_type": "display_data"
    },
    {
     "data": {
      "image/png": "[encoded data removed]",
      "text/plain": [
       "<Figure size 432x288 with 1 Axes>"
      ]
     },
     "metadata": {
      "needs_background": "light"
     },
     "output_type": "display_data"
    }
   ],
   "source": [
    "\n",
    "# PLOT loss and accuracy for train and validation data\n",
    "\n",
    "# model.fit() returns a History object that contains a dictionary with everything that happened during training\n",
    "# we can use it to plot training/validation loss and training/validation accuracy\n",
    "history_dict = history.history\n",
    "print (history_dict.keys())\n",
    "\n",
    "# plot loss\n",
    "loss = history_dict['loss']\n",
    "val_loss = history_dict['val_loss']\n",
    "epochs = range(1, len(loss) + 1)\n",
    "plt.plot(epochs, loss, 'b', label='training loss')\n",
    "plt.plot(epochs, val_loss, 'r', label='validation loss')\n",
    "plt.title('Training and Validation Loss')\n",
    "plt.xlabel('Epochs')\n",
    "plt.ylabel('Loss')\n",
    "plt.legend()\n",
    "plt.show()\n",
    "\n",
    "# plot accuracy\n",
    "acc = history_dict['accuracy']\n",
    "val_acc = history_dict['val_accuracy']\n",
    "epochs = range(1, len(acc) + 1)\n",
    "plt.plot(epochs, acc, 'b', label='training accuracy')\n",
    "plt.plot(epochs, val_acc, 'r', label='validation accuracy')\n",
    "plt.title('Training and Validation Accuracy')\n",
    "plt.xlabel('Epochs')\n",
    "plt.ylabel('Accuracy')\n",
    "plt.legend()\n",
    "plt.show()"
   ]
  },
  {
   "cell_type": "code",
   "execution_count": 8,
   "metadata": {},
   "outputs": [
    {
     "name": "stdout",
     "output_type": "stream",
     "text": [
      "313/313 - 1s - loss: 0.0842 - accuracy: 0.9794 - 1s/epoch - 4ms/step\n",
      "\n",
      "test set loss:  0.0842 \n",
      "test set accuracy:  0.9794\n"
     ]
    }
   ],
   "source": [
    "# EVALUATE model\n",
    "test_loss, test_acc = model.evaluate(test_images, test_labels, verbose=2)\n",
    "print (\"\\ntest set loss: \", round(test_loss,4), \"\\ntest set accuracy: \", round(test_acc,4))"
   ]
  },
  {
   "cell_type": "code",
   "execution_count": 13,
   "metadata": {},
   "outputs": [
    {
     "name": "stdout",
     "output_type": "stream",
     "text": [
      "Model: \"sequential_2\"\n",
      "_________________________________________________________________\n",
      " Layer (type)                Output Shape              Param #   \n",
      "=================================================================\n",
      " rescaling_2 (Rescaling)     (None, 28, 28, 1)         0         \n",
      "                                                                 \n",
      " conv2d_2 (Conv2D)           (None, 26, 26, 32)        320       \n",
      "                                                                 \n",
      " max_pooling2d_2 (MaxPooling  (None, 13, 13, 32)       0         \n",
      " 2D)                                                             \n",
      "                                                                 \n",
      " conv2d_3 (Conv2D)           (None, 11, 11, 64)        18496     \n",
      "                                                                 \n",
      " max_pooling2d_3 (MaxPooling  (None, 5, 5, 64)         0         \n",
      " 2D)                                                             \n",
      "                                                                 \n",
      " flatten_2 (Flatten)         (None, 1600)              0         \n",
      "                                                                 \n",
      " dropout_1 (Dropout)         (None, 1600)              0         \n",
      "                                                                 \n",
      " dense_4 (Dense)             (None, 10)                16010     \n",
      "                                                                 \n",
      "=================================================================\n",
      "Total params: 34,826\n",
      "Trainable params: 34,826\n",
      "Non-trainable params: 0\n",
      "_________________________________________________________________\n"
     ]
    }
   ],
   "source": [
    "##### THIS IS CELL 2 (of 2) YOU WILL EDIT PER THE ISNTRUCTIONS BELOW\n",
    "\n",
    "# CREATE model \n",
    "# a sequential model is appropriate for a plain stack of layers where each layer \n",
    "# has exactly one input tensor and one output tensor.\n",
    "model = tf.keras.Sequential([\n",
    "    \n",
    "    # tell keras the input shape is (28, 28, 1); \n",
    "    # sample size is ommitted - only the shape of each sample is specified \n",
    "    tf.keras.Input(shape=(28, 28, 1)), \n",
    "\n",
    "    # preprocess images to lie in the range 0-1\n",
    "    layers.experimental.preprocessing.Rescaling(1.0 / 255), \n",
    "    \n",
    "    # create 2 pairs of convolutional-pooling layers as below (leave everything else at default values)\n",
    "    #  - Conv2D: 32 filters, kernel size (3,3), strides (1,1), valid padding, relu activation\n",
    "    #  - MaxPool2D: pool size (2,2), strides (2,2)\n",
    "    #  - Conv2D: 64 filters, kernel size (3,3), strides (1,1), valid padding, relu activation\n",
    "    #  - MaxPool2D: pool size (2,2), strides (2,2)\n",
    "    ### (2.1) YOUR CODE HERE\n",
    "    layers.Conv2D(filters=32, kernel_size=(3, 3), strides=(1,1), padding='valid', activation='relu'),\n",
    "    layers.MaxPooling2D(pool_size=(2,2), strides=(2, 2)),\n",
    "    layers.Conv2D(filters=64, kernel_size=(3, 3), strides=(1,1), padding='valid', activation='relu'),\n",
    "    layers.MaxPooling2D(pool_size=(2,2), strides=(2, 2)),\n",
    "    \n",
    "    # Flatten to get output ready for fully connected layer (leave everything at default values)\n",
    "    ### (2.2) YOUR CODE HERE\n",
    "    layers.Flatten(), \n",
    "    \n",
    "    # use Dropout with drop rate of 0.5 (leave everything else at default values)\n",
    "    ### (2.3) YOUR CODE HERE\n",
    "    layers.Dropout(0.5),\n",
    "    \n",
    "    # create Dense output layer with 10 nodes and Softmax activation (leave everything else at default values)\n",
    "    ### (2.4) YOUR CODE HERE\n",
    "    layers.Dense(units=10, activation='softmax')\n",
    "\n",
    "])\n",
    "\n",
    "# DISPLAY model architecture\n",
    "# you should end up with total parameters 34,826  \n",
    "# ensure you understand the number of parameters in each layer, \n",
    "# as well as total number of trainable and non-trainable parameters\n",
    "model.summary()\n",
    "\n",
    "# COMPILE model\n",
    "model.compile(\n",
    "    \n",
    "    # use Adam optimizer with learning rate 0.001 (leave everything else at default values)\n",
    "    ### (2.5) YOUR CODE HERE\n",
    "    optimizer=optimizers.Adam(learning_rate=0.001),\n",
    "    \n",
    "    # use SparseCategoricalCrossentropy loss (leave everything at default values)\n",
    "    ### (2.6) YOUR CODE HERE\n",
    "    loss=losses.SparseCategoricalCrossentropy(),\n",
    "    \n",
    "    # track accuracy metric\n",
    "    ### (2.7) YOUR CODE HERE\n",
    "    metrics=['accuracy']\n",
    "\n",
    ") "
   ]
  },
  {
   "cell_type": "code",
   "execution_count": null,
   "metadata": {},
   "outputs": [],
   "source": [
    "# CNN"
   ]
  },
  {
   "cell_type": "code",
   "execution_count": 14,
   "metadata": {},
   "outputs": [
    {
     "name": "stdout",
     "output_type": "stream",
     "text": [
      "Epoch 1/15\n",
      "  4/422 [..............................] - ETA: 8s - loss: 2.2623 - accuracy: 0.1504  "
     ]
    },
    {
     "name": "stderr",
     "output_type": "stream",
     "text": [
      "2022-04-13 15:22:35.847361: I tensorflow/core/grappler/optimizers/custom_graph_optimizer_registry.cc:113] Plugin optimizer for device_type GPU is enabled.\n"
     ]
    },
    {
     "name": "stdout",
     "output_type": "stream",
     "text": [
      "422/422 [==============================] - ETA: 0s - loss: 0.3506 - accuracy: 0.8951"
     ]
    },
    {
     "name": "stderr",
     "output_type": "stream",
     "text": [
      "2022-04-13 15:22:41.283052: I tensorflow/core/grappler/optimizers/custom_graph_optimizer_registry.cc:113] Plugin optimizer for device_type GPU is enabled.\n"
     ]
    },
    {
     "name": "stdout",
     "output_type": "stream",
     "text": [
      "422/422 [==============================] - 6s 14ms/step - loss: 0.3506 - accuracy: 0.8951 - val_loss: 0.0814 - val_accuracy: 0.9772\n",
      "Epoch 2/15\n",
      "422/422 [==============================] - 6s 13ms/step - loss: 0.1039 - accuracy: 0.9678 - val_loss: 0.0551 - val_accuracy: 0.9847\n",
      "Epoch 3/15\n",
      "422/422 [==============================] - 6s 13ms/step - loss: 0.0800 - accuracy: 0.9753 - val_loss: 0.0482 - val_accuracy: 0.9873\n",
      "Epoch 4/15\n",
      "422/422 [==============================] - 6s 14ms/step - loss: 0.0653 - accuracy: 0.9796 - val_loss: 0.0452 - val_accuracy: 0.9868\n",
      "Epoch 5/15\n",
      "422/422 [==============================] - 6s 13ms/step - loss: 0.0610 - accuracy: 0.9816 - val_loss: 0.0400 - val_accuracy: 0.9883\n",
      "Epoch 6/15\n",
      "422/422 [==============================] - 6s 13ms/step - loss: 0.0535 - accuracy: 0.9833 - val_loss: 0.0361 - val_accuracy: 0.9903\n",
      "Epoch 7/15\n",
      "422/422 [==============================] - 6s 13ms/step - loss: 0.0475 - accuracy: 0.9854 - val_loss: 0.0352 - val_accuracy: 0.9900\n",
      "Epoch 8/15\n",
      "422/422 [==============================] - 6s 13ms/step - loss: 0.0446 - accuracy: 0.9863 - val_loss: 0.0384 - val_accuracy: 0.9903\n",
      "Epoch 9/15\n",
      "422/422 [==============================] - 6s 13ms/step - loss: 0.0422 - accuracy: 0.9866 - val_loss: 0.0325 - val_accuracy: 0.9918\n",
      "Epoch 10/15\n",
      "422/422 [==============================] - 6s 13ms/step - loss: 0.0389 - accuracy: 0.9877 - val_loss: 0.0322 - val_accuracy: 0.9922\n",
      "Epoch 11/15\n",
      "422/422 [==============================] - 6s 13ms/step - loss: 0.0371 - accuracy: 0.9879 - val_loss: 0.0309 - val_accuracy: 0.9917\n",
      "Epoch 12/15\n",
      "422/422 [==============================] - 6s 13ms/step - loss: 0.0361 - accuracy: 0.9883 - val_loss: 0.0326 - val_accuracy: 0.9912\n",
      "Epoch 13/15\n",
      "422/422 [==============================] - 6s 14ms/step - loss: 0.0324 - accuracy: 0.9895 - val_loss: 0.0308 - val_accuracy: 0.9915\n",
      "Epoch 14/15\n",
      "422/422 [==============================] - 6s 13ms/step - loss: 0.0337 - accuracy: 0.9892 - val_loss: 0.0328 - val_accuracy: 0.9907\n",
      "Epoch 15/15\n",
      "422/422 [==============================] - 6s 13ms/step - loss: 0.0312 - accuracy: 0.9899 - val_loss: 0.0305 - val_accuracy: 0.9917\n",
      "CPU times: user 34.7 s, sys: 23.8 s, total: 58.5 s\n",
      "Wall time: 1min 24s\n"
     ]
    }
   ],
   "source": [
    "%%time\n",
    "\n",
    "# TRAIN model \n",
    "# ensure you can explain the number of gradient descent steps in each epoch\n",
    "history = model.fit(\n",
    "    \n",
    "    # training set images\n",
    "    train_images, \n",
    "    \n",
    "    # training set labels\n",
    "    train_labels, \n",
    "    \n",
    "    # number of epochs to train\n",
    "    epochs=15,\n",
    "    \n",
    "    # mini-batch SGD batch size\n",
    "    # if None, defaults to 32\n",
    "    batch_size=128,\n",
    "    \n",
    "    # validation set - can use validation_split or validation_data\n",
    "    validation_split=0.1,\n",
    ") "
   ]
  },
  {
   "cell_type": "code",
   "execution_count": 15,
   "metadata": {},
   "outputs": [
    {
     "name": "stdout",
     "output_type": "stream",
     "text": [
      "dict_keys(['loss', 'accuracy', 'val_loss', 'val_accuracy'])\n"
     ]
    },
    {
     "data": {
      "image/png": "[encoded data removed]",
      "text/plain": [
       "<Figure size 432x288 with 1 Axes>"
      ]
     },
     "metadata": {
      "needs_background": "light"
     },
     "output_type": "display_data"
    },
    {
     "data": {
      "image/png": "[encoded data removed]",
      "text/plain": [
       "<Figure size 432x288 with 1 Axes>"
      ]
     },
     "metadata": {
      "needs_background": "light"
     },
     "output_type": "display_data"
    }
   ],
   "source": [
    "\n",
    "# PLOT loss and accuracy for train and validation data\n",
    "\n",
    "# model.fit() returns a History object that contains a dictionary with everything that happened during training\n",
    "# we can use it to plot training/validation loss and training/validation accuracy\n",
    "history_dict = history.history\n",
    "print (history_dict.keys())\n",
    "\n",
    "# plot loss\n",
    "loss = history_dict['loss']\n",
    "val_loss = history_dict['val_loss']\n",
    "epochs = range(1, len(loss) + 1)\n",
    "plt.plot(epochs, loss, 'b', label='training loss')\n",
    "plt.plot(epochs, val_loss, 'r', label='validation loss')\n",
    "plt.title('Training and Validation Loss')\n",
    "plt.xlabel('Epochs')\n",
    "plt.ylabel('Loss')\n",
    "plt.legend()\n",
    "plt.show()\n",
    "\n",
    "# plot accuracy\n",
    "acc = history_dict['accuracy']\n",
    "val_acc = history_dict['val_accuracy']\n",
    "epochs = range(1, len(acc) + 1)\n",
    "plt.plot(epochs, acc, 'b', label='training accuracy')\n",
    "plt.plot(epochs, val_acc, 'r', label='validation accuracy')\n",
    "plt.title('Training and Validation Accuracy')\n",
    "plt.xlabel('Epochs')\n",
    "plt.ylabel('Accuracy')\n",
    "plt.legend()\n",
    "plt.show()"
   ]
  },
  {
   "cell_type": "code",
   "execution_count": 16,
   "metadata": {},
   "outputs": [
    {
     "name": "stdout",
     "output_type": "stream",
     "text": [
      "313/313 - 1s - loss: 0.0247 - accuracy: 0.9917 - 1s/epoch - 4ms/step\n",
      "\n",
      "test set loss:  0.0247 \n",
      "test set accuracy:  0.9917\n"
     ]
    }
   ],
   "source": [
    "# EVALUATE model\n",
    "test_loss, test_acc = model.evaluate(test_images, test_labels, verbose=2)\n",
    "print (\"\\ntest set loss: \", round(test_loss,4), \"\\ntest set accuracy: \", round(test_acc,4))"
   ]
  },
  {
   "cell_type": "code",
   "execution_count": null,
   "metadata": {},
   "outputs": [],
   "source": []
  }
 ],
 "metadata": {
  "kernelspec": {
   "display_name": "Python 3 (ipykernel)",
   "language": "python",
   "name": "python3"
  },
  "language_info": {
   "codemirror_mode": {
    "name": "ipython",
    "version": 3
   },
   "file_extension": ".py",
   "mimetype": "text/x-python",
   "name": "python",
   "nbconvert_exporter": "python",
   "pygments_lexer": "ipython3",
   "version": "3.10.13"
  }
 },
 "nbformat": 4,
 "nbformat_minor": 2
}
